{
 "cells": [
  {
   "cell_type": "code",
   "execution_count": 1,
   "metadata": {},
   "outputs": [],
   "source": [
    "import pandas as pd\n",
    "import numpy as np\n",
    "\n",
    "from nltk.corpus import stopwords\n",
    "from sklearn.feature_extraction.text import CountVectorizer\n",
    "from sklearn.decomposition import LatentDirichletAllocation"
   ]
  },
  {
   "cell_type": "code",
   "execution_count": 2,
   "metadata": {},
   "outputs": [],
   "source": [
    "stop_words = set(stopwords.words('english'))"
   ]
  },
  {
   "cell_type": "code",
   "execution_count": 3,
   "metadata": {},
   "outputs": [],
   "source": [
    "lda = LatentDirichletAllocation(n_components = 20, learning_offset =50., verbose=1,\n",
    "                                doc_topic_prior=0.9, topic_word_prior= 0.9,\n",
    "                                n_jobs=-1, learning_method = 'online')\n",
    "tf_vectorizer =  CountVectorizer(max_df=0.85, min_df=2, max_features = 1000,\n",
    "                                stop_words=stop_words, ngram_range = (1,3))"
   ]
  },
  {
   "cell_type": "code",
   "execution_count": null,
   "metadata": {},
   "outputs": [],
   "source": [
    "def recomender2(article,model,vectorizer,df):\n",
    "    tf = vectorizer.fit_transform(df['text'])\n",
    "    model.fit(tf)\n",
    "    topic_prob = model.transform(tf)\n",
    "    doc_index = df.index[df.title==article]\n",
    "    closest_idx = np.argsort(cosine_distances(topic_prob,\n",
    "                                              topic_prob[doc_index].reshape(1,-1)),\n",
    "                                             axis=0)[:11].flatten()\n",
    "    return df.iloc[closest_idx[1:]]"
   ]
  },
  {
   "cell_type": "code",
   "execution_count": null,
   "metadata": {},
   "outputs": [],
   "source": [
    "recomender2(\"Magic and religion\",lda,tf_vectorizer,df)"
   ]
  }
 ],
 "metadata": {
  "kernelspec": {
   "display_name": "Python 3",
   "language": "python",
   "name": "python3"
  },
  "language_info": {
   "codemirror_mode": {
    "name": "ipython",
    "version": 3
   },
   "file_extension": ".py",
   "mimetype": "text/x-python",
   "name": "python",
   "nbconvert_exporter": "python",
   "pygments_lexer": "ipython3",
   "version": "3.7.6"
  }
 },
 "nbformat": 4,
 "nbformat_minor": 4
}
